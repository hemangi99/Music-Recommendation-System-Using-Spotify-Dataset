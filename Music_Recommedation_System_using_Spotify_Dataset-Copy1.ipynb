{
 "cells": [
  {
   "cell_type": "markdown",
   "id": "397c81bc",
   "metadata": {},
   "source": [
    "<h1>Building Music Recommendation System using Spotify Dataset</h1>"
   ]
  },
  {
   "cell_type": "markdown",
   "id": "826e43eb",
   "metadata": {},
   "source": [
    "I have developed a Music Recommendation System utilizing the Spotify Dataset. As part of the process, I employed various visualization techniques to gain insights into the dataset and conducted Exploratory Data Analysis (EDA). This exploratory phase allowed me to comprehend the data's characteristics and identify relevant features that would contribute to the creation of an effective Recommendation System"
   ]
  },
  {
   "cell_type": "markdown",
   "id": "88494b4b",
   "metadata": {},
   "source": [
    "<h2>Import Libraries</h2>"
   ]
  },
  {
   "cell_type": "code",
   "execution_count": null,
   "id": "40293614",
   "metadata": {},
   "outputs": [],
   "source": [
    "import os\n",
    "import numpy as np\n",
    "import pandas as pd\n",
    "\n",
    "import seaborn as sns\n",
    "import plotly.express as px \n",
    "import matplotlib.pyplot as plt\n",
    "%matplotlib inline\n",
    "\n",
    "from sklearn.cluster import KMeans\n",
    "from sklearn.preprocessing import StandardScaler\n",
    "from sklearn.pipeline import Pipeline\n",
    "from sklearn.manifold import TSNE\n",
    "from sklearn.decomposition import PCA\n",
    "from sklearn.metrics import euclidean_distances\n",
    "from scipy.spatial.distance import cdist\n",
    "\n",
    "import warnings\n",
    "warnings.filterwarnings(\"ignore\")"
   ]
  },
  {
   "cell_type": "markdown",
   "id": "cb9653e0",
   "metadata": {},
   "source": [
    "<h2>Read data</h2>"
   ]
  },
  {
   "cell_type": "code",
   "execution_count": null,
   "id": "0df8c0aa",
   "metadata": {},
   "outputs": [],
   "source": [
    "data = pd.read_csv(\"E:/Projects/Spotify Data Analysis/Datasets/data.csv\")\n",
    "genre_data = pd.read_csv('E:/Projects/Spotify Data Analysis/Datasets/data_by_genres.csv')\n",
    "year_data = pd.read_csv('E:/Projects/Spotify Data Analysis/Datasets/data_by_year.csv')\n",
    "print(data.info())"
   ]
  },
  {
   "cell_type": "code",
   "execution_count": null,
   "id": "a2d6dc3f",
   "metadata": {},
   "outputs": [],
   "source": [
    "print(genre_data.info())"
   ]
  },
  {
   "cell_type": "code",
   "execution_count": null,
   "id": "8f4d037e",
   "metadata": {},
   "outputs": [],
   "source": [
    "print(year_data.info())"
   ]
  },
  {
   "cell_type": "markdown",
   "id": "f5ccb36b",
   "metadata": {},
   "source": [
    "We are about to conduct an analysis with the target variable being 'popularity.' As a preliminary step, we aim to examine the correlation between features by considering a few features. To accomplish this, we will leverage the capabilities of the Yellowbrick package."
   ]
  },
  {
   "cell_type": "code",
   "execution_count": null,
   "id": "67b84a5b",
   "metadata": {},
   "outputs": [],
   "source": [
    "from yellowbrick.target import FeatureCorrelation\n",
    "\n",
    "feature_names = ['acousticness', 'danceability', 'energy', 'instrumentalness',\n",
    "       'liveness', 'loudness', 'speechiness', 'tempo', 'valence','duration_ms','explicit','key','mode','year']\n",
    "\n",
    "X, y = data[feature_names], data['popularity']\n",
    "\n",
    "# Create a list of the feature names\n",
    "features = np.array(feature_names)\n",
    "\n",
    "# Instantiate the visualizer\n",
    "visualizer = FeatureCorrelation(labels=features)\n",
    "\n",
    "plt.rcParams['figure.figsize']=(10,10)\n",
    "visualizer.fit(X, y)     # Fit the data to the visualizer\n",
    "visualizer.show()\n"
   ]
  },
  {
   "cell_type": "markdown",
   "id": "39d2ea6e",
   "metadata": {},
   "source": [
    "<h2>Data Understanding by Visualization and EDA</h2>"
   ]
  },
  {
   "cell_type": "markdown",
   "id": "534a09e9",
   "metadata": {},
   "source": [
    "<h3>Music Over Time</h3>\n",
    "\n",
    "By examining the data grouped by year, we can gain insights into the evolution of the overall sound of music spanning the years 1921 to 2020."
   ]
  },
  {
   "cell_type": "code",
   "execution_count": null,
   "id": "e293c46f",
   "metadata": {},
   "outputs": [],
   "source": [
    "def get_decade(year):\n",
    "    period_start = int(year/10) * 10\n",
    "    decade = '{}s'.format(period_start)\n",
    "    return decade\n",
    "\n",
    "\n",
    "data['decade'] = data['year'].apply(get_decade)\n",
    "sns.set(rc={'figure.figsize':(11 ,6)})\n",
    "sns.countplot(x='decade', data=data)  "
   ]
  },
  {
   "cell_type": "code",
   "execution_count": null,
   "id": "1d173b2d",
   "metadata": {},
   "outputs": [],
   "source": [
    "sound_features = ['acousticness', 'danceability', 'energy', 'instrumentalness', 'liveness', 'valence']\n",
    "fig = px.line(year_data, x='year', y=sound_features)\n",
    "fig.show()"
   ]
  },
  {
   "cell_type": "markdown",
   "id": "4af3f49b",
   "metadata": {},
   "source": [
    "<h3>Characteristics of Different Genres</h3>\n",
    "\n",
    "Within this dataset, there are audio features available for various songs, as well as corresponding audio features for distinct genres. Leveraging this information, we can conduct comparisons between different genres, thereby gaining an understanding of their distinctive sound characteristics."
   ]
  },
  {
   "cell_type": "code",
   "execution_count": null,
   "id": "c493b1a1",
   "metadata": {},
   "outputs": [],
   "source": [
    "top10_genres = genre_data.nlargest(10, 'popularity')\n",
    "\n",
    "fig = px.bar(top10_genres, x='genres', y=['valence', 'energy', 'danceability', 'acousticness'], barmode='group')\n",
    "fig.show()"
   ]
  },
  {
   "cell_type": "markdown",
   "id": "cde0fc39",
   "metadata": {},
   "source": [
    "<h2>Clustering Genres with K-Means</h2>\n",
    "\n",
    "In the below step, K-means clustering algorithm is applied to categorize the genres within this dataset into ten clusters. This categorization is determined by considering the numerical audio features associated with each genre."
   ]
  },
  {
   "cell_type": "code",
   "execution_count": null,
   "id": "748e776d",
   "metadata": {},
   "outputs": [],
   "source": [
    "from sklearn.cluster import KMeans\n",
    "from sklearn.preprocessing import StandardScaler\n",
    "from sklearn.pipeline import Pipeline\n",
    "\n",
    "cluster_pipeline = Pipeline([('scaler', StandardScaler()), ('kmeans', KMeans(n_clusters=10))])\n",
    "X = genre_data.select_dtypes(np.number)\n",
    "cluster_pipeline.fit(X)\n",
    "genre_data['cluster'] = cluster_pipeline.predict(X)"
   ]
  },
  {
   "cell_type": "markdown",
   "id": "3eeea9d6",
   "metadata": {},
   "source": [
    "<h4>Visualizing the Clusters with t-SNE</h4>"
   ]
  },
  {
   "cell_type": "code",
   "execution_count": null,
   "id": "883c2659",
   "metadata": {},
   "outputs": [],
   "source": [
    "# t-SNE => algorithm that allows us to view multidim data in a way we can interpret (2D, 3D, or 4D)\n",
    "from sklearn.manifold import TSNE\n",
    "\n",
    "tsne_pipeline = Pipeline([('scaler', StandardScaler()), ('tsne', TSNE(n_components=2, verbose=1))])\n",
    "genre_embedding = tsne_pipeline.fit_transform(X)\n",
    "projection = pd.DataFrame(columns=['x', 'y'], data=genre_embedding)\n",
    "projection['genres'] = genre_data['genres']\n",
    "projection['cluster'] = genre_data['cluster']\n",
    "\n",
    "fig = px.scatter(\n",
    "    projection, x='x', y='y', color='cluster', hover_data=['x', 'y', 'genres'])\n",
    "fig.show()"
   ]
  },
  {
   "cell_type": "markdown",
   "id": "2799eb21",
   "metadata": {},
   "source": [
    "<h2>Clustering Songs with K-Means</h2>\n",
    "\n",
    "In the below step, K-means clustering algorithm is applied to categorize the songs within this dataset into 20 clusters. This categorization is determined by considering the numerical audio features associated with each song."
   ]
  },
  {
   "cell_type": "code",
   "execution_count": null,
   "id": "428dd850",
   "metadata": {},
   "outputs": [],
   "source": [
    "song_cluster_pipeline = Pipeline([('scaler', StandardScaler()), \n",
    "                                  ('kmeans', KMeans(n_clusters=20, \n",
    "                                   verbose=False))\n",
    "                                 ], verbose=False)\n",
    "\n",
    "X = data.select_dtypes(np.number)\n",
    "number_cols = list(X.columns)\n",
    "song_cluster_pipeline.fit(X)\n",
    "song_cluster_labels = song_cluster_pipeline.predict(X)\n",
    "data['cluster_label'] = song_cluster_labels"
   ]
  },
  {
   "cell_type": "markdown",
   "id": "96ae3231",
   "metadata": {},
   "source": [
    "<h4>Visualizing the Clusters with PCA</h4>"
   ]
  },
  {
   "cell_type": "code",
   "execution_count": null,
   "id": "87b76502",
   "metadata": {},
   "outputs": [],
   "source": [
    "from sklearn.decomposition import PCA\n",
    "\n",
    "pca_pipeline = Pipeline([('scaler', StandardScaler()), ('PCA', PCA(n_components=2))])\n",
    "song_embedding = pca_pipeline.fit_transform(X)\n",
    "projection = pd.DataFrame(columns=['x', 'y'], data=song_embedding)\n",
    "projection['title'] = data['name']\n",
    "projection['cluster'] = data['cluster_label']\n",
    "\n",
    "fig = px.scatter(\n",
    "    projection, x='x', y='y', color='cluster', hover_data=['x', 'y', 'title'])\n",
    "fig.show()"
   ]
  },
  {
   "cell_type": "markdown",
   "id": "132bdb33",
   "metadata": {},
   "source": [
    "<h2>Building Recommender System</h2>\n",
    "\n",
    "From the analysis and visualizations, it's evident that genres with similar characteristics are grouped closely in the data, as are songs of similar types. This alignment is logical since songs within the same genre often share similarities in sound and time periods. Leveraging this insight, we can develop a recommendation system. By considering the data points of songs a user has listened to and identifying nearby data points, we can recommend songs that align with the user's preferences.\n",
    "\n",
    "To implement this, we can use Spotipy, a Python client for the Spotify Web API, which facilitates data retrieval and querying Spotify's song catalog. To get started,create a Spotify Developer app to obtain a Client ID and secret key for authentication."
   ]
  },
  {
   "cell_type": "code",
   "execution_count": null,
   "id": "4c52fb3f",
   "metadata": {},
   "outputs": [],
   "source": [
    "!pip install spotipy"
   ]
  },
  {
   "cell_type": "code",
   "execution_count": null,
   "id": "d7892ee5",
   "metadata": {},
   "outputs": [],
   "source": [
    "import spotipy\n",
    "from spotipy.oauth2 import SpotifyClientCredentials\n",
    "from collections import defaultdict\n",
    "\n",
    "# create environment variable\n",
    "sp = spotipy.Spotify(auth_manager=SpotifyClientCredentials(client_id=\"Your_ID\",\n",
    "                                                           client_secret=\"Your_Secret\"))\n",
    "\n",
    "def find_song(name, year):\n",
    "    song_data = defaultdict()\n",
    "    results = sp.search(q='track: {} year: {}'.format(name,year), limit=1)\n",
    "    if results['tracks']['items'] == []:\n",
    "        return None\n",
    "\n",
    "    results = results['tracks']['items'][0]\n",
    "    track_id = results['id']\n",
    "    audio_features = sp.audio_features(track_id)[0]\n",
    "\n",
    "    song_data['name'] = [name]\n",
    "    song_data['year'] = [year]\n",
    "    song_data['explicit'] = [int(results['explicit'])]\n",
    "    song_data['duration_ms'] = [results['duration_ms']]\n",
    "    song_data['popularity'] = [results['popularity']]\n",
    "\n",
    "    for key, value in audio_features.items():\n",
    "        song_data[key] = value\n",
    "\n",
    "    return pd.DataFrame(song_data)"
   ]
  },
  {
   "cell_type": "code",
   "execution_count": null,
   "id": "15d08a07",
   "metadata": {},
   "outputs": [],
   "source": [
    "from collections import defaultdict\n",
    "from sklearn.metrics import euclidean_distances\n",
    "from scipy.spatial.distance import cdist\n",
    "import difflib\n",
    "\n",
    "number_cols = ['valence', 'year', 'acousticness', 'danceability', 'duration_ms', 'energy', 'explicit',\n",
    " 'instrumentalness', 'key', 'liveness', 'loudness', 'mode', 'popularity', 'speechiness', 'tempo']\n",
    "\n",
    "\n",
    "def get_song_data(song, spotify_data):\n",
    "    \n",
    "    try:\n",
    "        song_data = spotify_data[(spotify_data['name'] == song['name']) \n",
    "                                & (spotify_data['year'] == song['year'])].iloc[0]\n",
    "        return song_data\n",
    "    \n",
    "    except IndexError:\n",
    "        return find_song(song['name'], song['year'])\n",
    "        \n",
    "\n",
    "def get_mean_vector(song_list, spotify_data):\n",
    "    \n",
    "    song_vectors = []\n",
    "    \n",
    "    for song in song_list:\n",
    "        song_data = get_song_data(song, spotify_data)\n",
    "        if song_data is None:\n",
    "            print('Warning: {} does not exist in Spotify or in database'.format(song['name']))\n",
    "            continue\n",
    "        song_vector = song_data[number_cols].values.flatten()\n",
    "        song_vectors.append(song_vector)  \n",
    "        \n",
    "    song_matrix = np.array(list(song_vectors))\n",
    "    return np.mean(song_matrix, axis=0)\n",
    "\n",
    "\n",
    "def flatten_dict_list(dict_list):\n",
    "    \n",
    "    flattened_dict = defaultdict()\n",
    "    for key in dict_list[0].keys():\n",
    "        flattened_dict[key] = []\n",
    "    \n",
    "    for dictionary in dict_list:\n",
    "        for key, value in dictionary.items():\n",
    "            flattened_dict[key].append(value)\n",
    "            \n",
    "    return flattened_dict\n",
    "\n",
    "\n",
    "def recommend_songs( song_list, spotify_data, n_songs=10):\n",
    "    \n",
    "    metadata_cols = ['name', 'year', 'artists']\n",
    "    song_dict = flatten_dict_list(song_list)\n",
    "    \n",
    "    song_center = get_mean_vector(song_list, spotify_data)\n",
    "    scaler = song_cluster_pipeline.steps[0][1]\n",
    "    scaled_data = scaler.transform(spotify_data[number_cols])\n",
    "    scaled_song_center = scaler.transform(song_center.reshape(1, -1))\n",
    "    distances = cdist(scaled_song_center, scaled_data, 'cosine')\n",
    "    index = list(np.argsort(distances)[:, :n_songs][0])\n",
    "    \n",
    "    rec_songs = spotify_data.iloc[index]\n",
    "    rec_songs = rec_songs[~rec_songs['name'].isin(song_dict['name'])]\n",
    "    return rec_songs[metadata_cols].to_dict(orient='records')"
   ]
  },
  {
   "cell_type": "code",
   "execution_count": null,
   "id": "3658c56b",
   "metadata": {},
   "outputs": [],
   "source": [
    "recommend_songs([{'name': 'Come As You Are', 'year':1991},\n",
    "                {'name': 'Smells Like Teen Spirit', 'year': 1991},\n",
    "                {'name': 'Lithium', 'year': 1992},\n",
    "                {'name': 'All Apologies', 'year': 1993},\n",
    "                {'name': 'Stay Away', 'year': 1993}],  data)\n",
    "#The output will be the recommendation list of songs as per the input provided "
   ]
  }
 ],
 "metadata": {
  "kernelspec": {
   "display_name": "Python 3 (ipykernel)",
   "language": "python",
   "name": "python3"
  },
  "language_info": {
   "codemirror_mode": {
    "name": "ipython",
    "version": 3
   },
   "file_extension": ".py",
   "mimetype": "text/x-python",
   "name": "python",
   "nbconvert_exporter": "python",
   "pygments_lexer": "ipython3",
   "version": "3.11.4"
  }
 },
 "nbformat": 4,
 "nbformat_minor": 5
}
